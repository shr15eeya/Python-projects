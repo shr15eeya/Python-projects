{
 "cells": [
  {
   "cell_type": "code",
   "execution_count": 1,
   "id": "21b43a51",
   "metadata": {},
   "outputs": [],
   "source": [
    "import os, shutil"
   ]
  },
  {
   "cell_type": "code",
   "execution_count": 7,
   "id": "c16108cd",
   "metadata": {},
   "outputs": [],
   "source": [
    "path =r\"C:/Users/shree/OneDrive/Pictures/python tut/\""
   ]
  },
  {
   "cell_type": "code",
   "execution_count": 10,
   "id": "0bb9a632",
   "metadata": {},
   "outputs": [],
   "source": [
    "file_name=os.listdir(path)\n",
    "#showing content of folder"
   ]
  },
  {
   "cell_type": "code",
   "execution_count": 9,
   "id": "bfedea87",
   "metadata": {},
   "outputs": [
    {
     "name": "stdout",
     "output_type": "stream",
     "text": [
      "C:/Users/shree/OneDrive/Pictures/python tut/text files\n"
     ]
    }
   ],
   "source": [
    "folder_names =['xlsx files','image files','text files']\n",
    "\n",
    "#check if folders exists and if not creates folder\n",
    "for loop in range(0,3):\n",
    "    if not os.path.exists(path+folder_names[loop]):\n",
    "        print(path + folder_names[loop])\n",
    "        os.makedirs(path + folder_names[loop])\n"
   ]
  },
  {
   "cell_type": "code",
   "execution_count": 12,
   "id": "09fc49b6",
   "metadata": {},
   "outputs": [],
   "source": [
    "#moves files to appropriate folders\n",
    "for file in file_name:\n",
    "    if \".xlsx\" in file and not os.path.exists(path+\"xlsx files/\" + file):\n",
    "        shutil.move(path+file,path+\"xlsx files/\" + file)\n",
    "    elif \".png\" in file and not os.path.exists(path+\"image files/\" + file):\n",
    "        shutil.move(path+file,path+\"image files/\" + file)\n",
    "    elif \".txt\" in file and not os.path.exists(path+\"text files/\" + file):\n",
    "        shutil.move(path+file,path+\"text files/\" + file)\n",
    "    \n",
    "    "
   ]
  },
  {
   "cell_type": "code",
   "execution_count": null,
   "id": "fae67834",
   "metadata": {},
   "outputs": [],
   "source": []
  }
 ],
 "metadata": {
  "kernelspec": {
   "display_name": "Python 3 (ipykernel)",
   "language": "python",
   "name": "python3"
  },
  "language_info": {
   "codemirror_mode": {
    "name": "ipython",
    "version": 3
   },
   "file_extension": ".py",
   "mimetype": "text/x-python",
   "name": "python",
   "nbconvert_exporter": "python",
   "pygments_lexer": "ipython3",
   "version": "3.9.13"
  }
 },
 "nbformat": 4,
 "nbformat_minor": 5
}
